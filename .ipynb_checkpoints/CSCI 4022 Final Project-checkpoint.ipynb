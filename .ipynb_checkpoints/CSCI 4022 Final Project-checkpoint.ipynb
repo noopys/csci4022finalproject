{
 "cells": [
  {
   "cell_type": "markdown",
   "id": "867f708f",
   "metadata": {},
   "source": [
    "# Final Project - Medical Diagnosis Clustering Based on Symptoms"
   ]
  },
  {
   "cell_type": "markdown",
   "id": "8fd18f16",
   "metadata": {},
   "source": [
    "### Importing and cleaning data"
   ]
  },
  {
   "cell_type": "code",
   "execution_count": 2,
   "id": "8fba8fb9",
   "metadata": {},
   "outputs": [
    {
     "name": "stderr",
     "output_type": "stream",
     "text": [
      "Using custom data configuration ddxplus-648e998559240fad\n",
      "Reusing dataset csv (C:\\Users\\noopys\\.cache\\huggingface\\datasets\\csv\\ddxplus-648e998559240fad\\0.0.0\\9144e0a4e8435090117cea53e6c7537173ef2304525df4a077c435d8ee7828ff)\n"
     ]
    },
    {
     "data": {
      "application/vnd.jupyter.widget-view+json": {
       "model_id": "23fa6f5fa13742ce86f4a18f105452c0",
       "version_major": 2,
       "version_minor": 0
      },
      "text/plain": [
       "HBox(children=(FloatProgress(value=0.0, max=1.0), HTML(value='')))"
      ]
     },
     "metadata": {},
     "output_type": "display_data"
    },
    {
     "name": "stdout",
     "output_type": "stream",
     "text": [
      "\n"
     ]
    }
   ],
   "source": [
    "from datasets import load_dataset\n",
    "\n",
    "dataset = load_dataset(\"aai530-group6/ddxplus\")"
   ]
  },
  {
   "cell_type": "code",
   "execution_count": 8,
   "id": "2baaa60e",
   "metadata": {},
   "outputs": [
    {
     "data": {
      "text/html": [
       "<div>\n",
       "<style scoped>\n",
       "    .dataframe tbody tr th:only-of-type {\n",
       "        vertical-align: middle;\n",
       "    }\n",
       "\n",
       "    .dataframe tbody tr th {\n",
       "        vertical-align: top;\n",
       "    }\n",
       "\n",
       "    .dataframe thead th {\n",
       "        text-align: right;\n",
       "    }\n",
       "</style>\n",
       "<table border=\"1\" class=\"dataframe\">\n",
       "  <thead>\n",
       "    <tr style=\"text-align: right;\">\n",
       "      <th></th>\n",
       "      <th>AGE</th>\n",
       "      <th>SEX</th>\n",
       "      <th>PATHOLOGY</th>\n",
       "      <th>EVIDENCES</th>\n",
       "      <th>INITIAL_EVIDENCE</th>\n",
       "    </tr>\n",
       "  </thead>\n",
       "  <tbody>\n",
       "    <tr>\n",
       "      <th>0</th>\n",
       "      <td>49</td>\n",
       "      <td>F</td>\n",
       "      <td>GERD</td>\n",
       "      <td>['E_53', 'E_54_@_V_112', 'E_54_@_V_161', 'E_54...</td>\n",
       "      <td>E_201</td>\n",
       "    </tr>\n",
       "    <tr>\n",
       "      <th>1</th>\n",
       "      <td>2</td>\n",
       "      <td>M</td>\n",
       "      <td>Bronchitis</td>\n",
       "      <td>['E_53', 'E_54_@_V_181', 'E_55_@_V_55', 'E_55_...</td>\n",
       "      <td>E_53</td>\n",
       "    </tr>\n",
       "    <tr>\n",
       "      <th>2</th>\n",
       "      <td>49</td>\n",
       "      <td>M</td>\n",
       "      <td>Acute dystonic reactions</td>\n",
       "      <td>['E_15', 'E_128', 'E_147', 'E_168', 'E_172', '...</td>\n",
       "      <td>E_128</td>\n",
       "    </tr>\n",
       "    <tr>\n",
       "      <th>3</th>\n",
       "      <td>64</td>\n",
       "      <td>M</td>\n",
       "      <td>Acute laryngitis</td>\n",
       "      <td>['E_48', 'E_49', 'E_53', 'E_54_@_V_181', 'E_55...</td>\n",
       "      <td>E_53</td>\n",
       "    </tr>\n",
       "    <tr>\n",
       "      <th>4</th>\n",
       "      <td>70</td>\n",
       "      <td>F</td>\n",
       "      <td>URTI</td>\n",
       "      <td>['E_41', 'E_50', 'E_53', 'E_54_@_V_161', 'E_54...</td>\n",
       "      <td>E_201</td>\n",
       "    </tr>\n",
       "  </tbody>\n",
       "</table>\n",
       "</div>"
      ],
      "text/plain": [
       "   AGE SEX                 PATHOLOGY  \\\n",
       "0   49   F                      GERD   \n",
       "1    2   M                Bronchitis   \n",
       "2   49   M  Acute dystonic reactions   \n",
       "3   64   M          Acute laryngitis   \n",
       "4   70   F                      URTI   \n",
       "\n",
       "                                           EVIDENCES INITIAL_EVIDENCE  \n",
       "0  ['E_53', 'E_54_@_V_112', 'E_54_@_V_161', 'E_54...            E_201  \n",
       "1  ['E_53', 'E_54_@_V_181', 'E_55_@_V_55', 'E_55_...             E_53  \n",
       "2  ['E_15', 'E_128', 'E_147', 'E_168', 'E_172', '...            E_128  \n",
       "3  ['E_48', 'E_49', 'E_53', 'E_54_@_V_181', 'E_55...             E_53  \n",
       "4  ['E_41', 'E_50', 'E_53', 'E_54_@_V_161', 'E_54...            E_201  "
      ]
     },
     "execution_count": 8,
     "metadata": {},
     "output_type": "execute_result"
    }
   ],
   "source": [
    "import pandas as pd\n",
    "#Dataset has 1 million rows. We will focus on the first 10,000\n",
    "#Load into dataframe\n",
    "diagnosis = dataset['train'].select(range(10000))\n",
    "df=pd.DataFrame(diagnosis)\n",
    "#Get rid of column that displays results of ML algo this dataset was originally used for\n",
    "df = df.drop(\"DIFFERENTIAL_DIAGNOSIS\", axis=1)\n",
    "df.head()"
   ]
  },
  {
   "cell_type": "code",
   "execution_count": 18,
   "id": "3aed1c28",
   "metadata": {},
   "outputs": [
    {
     "name": "stdout",
     "output_type": "stream",
     "text": [
      "      AGE SEX        PATHOLOGY         EVIDENCES INITIAL_EVIDENCE\n",
      "0      49   F             GERD           ['E_53'            E_201\n",
      "0      49   F             GERD    'E_54_@_V_112'            E_201\n",
      "0      49   F             GERD    'E_54_@_V_161'            E_201\n",
      "0      49   F             GERD    'E_54_@_V_180'            E_201\n",
      "0      49   F             GERD    'E_54_@_V_181'            E_201\n",
      "...   ...  ..              ...               ...              ...\n",
      "9999   10   F  Localized edema    'E_152_@_V_35'             E_96\n",
      "9999   10   F  Localized edema    'E_152_@_V_51'             E_96\n",
      "9999   10   F  Localized edema    'E_152_@_V_52'             E_96\n",
      "9999   10   F  Localized edema    'E_152_@_V_72'             E_96\n",
      "9999   10   F  Localized edema   'E_204_@_V_10']             E_96\n",
      "\n",
      "[199855 rows x 5 columns]\n"
     ]
    }
   ],
   "source": [
    "#Use one-hot encoding to encode the different symptoms\n",
    "from sklearn.preprocessing import OneHotEncoder\n",
    "\n",
    "encoder = OneHotEncoder(sparse=False)\n",
    "\n",
    "symptoms_exploded = df.explode('EVIDENCES')\n",
    "encoded_data = encoder.fit_transform(symptoms_exploded['EVIDENCES'].values.reshape(-1, 1))\n",
    "encoded_df = pd.DataFrame(encoded_data, columns=encoder.get_feature_names_out(['EVIDENCES']))\n",
    "\n",
    "encoded_df.index = symptoms_exploded.index\n",
    "final_encoded_df = encoded_df.groupby(encoded_df.index).sum()\n",
    "\n",
    "\n",
    "\n",
    "print(symptoms_exploded)"
   ]
  },
  {
   "cell_type": "code",
   "execution_count": null,
   "id": "e1a794e5",
   "metadata": {},
   "outputs": [],
   "source": []
  }
 ],
 "metadata": {
  "kernelspec": {
   "display_name": "Python 3 (ipykernel)",
   "language": "python",
   "name": "python3"
  },
  "language_info": {
   "codemirror_mode": {
    "name": "ipython",
    "version": 3
   },
   "file_extension": ".py",
   "mimetype": "text/x-python",
   "name": "python",
   "nbconvert_exporter": "python",
   "pygments_lexer": "ipython3",
   "version": "3.9.12"
  }
 },
 "nbformat": 4,
 "nbformat_minor": 5
}
