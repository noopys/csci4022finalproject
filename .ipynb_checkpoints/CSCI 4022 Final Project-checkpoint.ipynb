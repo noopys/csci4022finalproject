{
 "cells": [
  {
   "cell_type": "markdown",
   "id": "372bbb61",
   "metadata": {},
   "source": [
    "# Final Project - Medical Diagnosis Clustering Based on Symptoms"
   ]
  },
  {
   "cell_type": "markdown",
   "id": "f7c401bd",
   "metadata": {},
   "source": [
    "### Importing and cleaning data"
   ]
  },
  {
   "cell_type": "code",
   "execution_count": 1,
   "id": "8fba8fb9",
   "metadata": {
    "tags": []
   },
   "outputs": [
    {
     "name": "stderr",
     "output_type": "stream",
     "text": [
      "Using custom data configuration ddxplus-648e998559240fad\n",
      "Reusing dataset csv (C:\\Users\\noopys\\.cache\\huggingface\\datasets\\csv\\ddxplus-648e998559240fad\\0.0.0\\9144e0a4e8435090117cea53e6c7537173ef2304525df4a077c435d8ee7828ff)\n"
     ]
    },
    {
     "data": {
      "application/vnd.jupyter.widget-view+json": {
       "model_id": "67ea31ab47eb4cde99040c4be2ad5e46",
       "version_major": 2,
       "version_minor": 0
      },
      "text/plain": [
       "HBox(children=(FloatProgress(value=0.0, max=1.0), HTML(value='')))"
      ]
     },
     "metadata": {},
     "output_type": "display_data"
    },
    {
     "name": "stdout",
     "output_type": "stream",
     "text": [
      "\n"
     ]
    }
   ],
   "source": [
    "from datasets import load_dataset\n",
    "import matplotlib.pyplot as plt\n",
    "\n",
    "dataset = load_dataset(\"aai530-group6/ddxplus\")"
   ]
  },
  {
   "cell_type": "code",
   "execution_count": 2,
   "id": "fbd86501-c547-4bc8-a1ee-5de346125ac5",
   "metadata": {
    "tags": []
   },
   "outputs": [
    {
     "name": "stdout",
     "output_type": "stream",
     "text": [
      "DatasetDict({\n",
      "    train: Dataset({\n",
      "        features: ['AGE', 'DIFFERENTIAL_DIAGNOSIS', 'SEX', 'PATHOLOGY', 'EVIDENCES', 'INITIAL_EVIDENCE'],\n",
      "        num_rows: 1292579\n",
      "    })\n",
      "})\n"
     ]
    }
   ],
   "source": [
    "print(dataset)"
   ]
  },
  {
   "cell_type": "code",
   "execution_count": 3,
   "id": "2baaa60e",
   "metadata": {
    "tags": []
   },
   "outputs": [],
   "source": [
    "import pandas as pd\n",
    "import ast\n",
    "\n",
    "# Dataset has 1 million rows. We will focus on the first 10,000\n",
    "# Load into dataframe\n",
    "diagnosis = dataset['train'].select(range(10000))\n",
    "df = pd.DataFrame(diagnosis)\n",
    "\n",
    "# Get rid of column that displays results of ML algo this dataset was originally used for\n",
    "df = df.drop(\"DIFFERENTIAL_DIAGNOSIS\", axis=1)\n",
    "\n",
    "# Checking how many unique elements there are\n",
    "df['EVIDENCES'] = df['EVIDENCES'].apply(ast.literal_eval)\n",
    "\n",
    "# Initialize a set to hold unique elements across all rows\n",
    "unique_elements = set()\n",
    "\n",
    "for row in df['EVIDENCES']:\n",
    "    # Using update to add elements from each list in the EVIDENCES column\n",
    "    unique_elements.update(row)\n",
    "\n",
    "# Create new columns for each unique element\n",
    "new_columns = pd.DataFrame({evidence: df['EVIDENCES'].apply(lambda x: 1 if evidence in x else 0) for evidence in unique_elements})\n",
    "\n",
    "# Concatenate the new columns with the original DataFrame\n",
    "df = pd.concat([df, new_columns], axis=1)\n",
    "\n",
    "# Drop the original 'EVIDENCES' column\n",
    "df = df.drop('EVIDENCES', axis=1)"
   ]
  },
  {
   "cell_type": "code",
   "execution_count": 4,
   "id": "6cf90cfa",
   "metadata": {
    "tags": []
   },
   "outputs": [
    {
     "data": {
      "text/html": [
       "<div>\n",
       "<style scoped>\n",
       "    .dataframe tbody tr th:only-of-type {\n",
       "        vertical-align: middle;\n",
       "    }\n",
       "\n",
       "    .dataframe tbody tr th {\n",
       "        vertical-align: top;\n",
       "    }\n",
       "\n",
       "    .dataframe thead th {\n",
       "        text-align: right;\n",
       "    }\n",
       "</style>\n",
       "<table border=\"1\" class=\"dataframe\">\n",
       "  <thead>\n",
       "    <tr style=\"text-align: right;\">\n",
       "      <th></th>\n",
       "      <th>AGE</th>\n",
       "      <th>SEX</th>\n",
       "      <th>PATHOLOGY</th>\n",
       "      <th>INITIAL_EVIDENCE</th>\n",
       "      <th>E_54_@_V_112</th>\n",
       "      <th>E_48</th>\n",
       "      <th>E_55_@_V_38</th>\n",
       "      <th>E_57_@_V_29</th>\n",
       "      <th>E_55_@_V_129</th>\n",
       "      <th>E_18</th>\n",
       "      <th>...</th>\n",
       "      <th>E_102</th>\n",
       "      <th>E_55_@_V_150</th>\n",
       "      <th>E_177</th>\n",
       "      <th>E_198</th>\n",
       "      <th>E_54_@_V_196</th>\n",
       "      <th>E_133_@_V_26</th>\n",
       "      <th>E_133_@_V_109</th>\n",
       "      <th>E_58_@_7</th>\n",
       "      <th>E_63</th>\n",
       "      <th>E_104</th>\n",
       "    </tr>\n",
       "  </thead>\n",
       "  <tbody>\n",
       "    <tr>\n",
       "      <th>0</th>\n",
       "      <td>49</td>\n",
       "      <td>F</td>\n",
       "      <td>GERD</td>\n",
       "      <td>E_201</td>\n",
       "      <td>1</td>\n",
       "      <td>0</td>\n",
       "      <td>0</td>\n",
       "      <td>1</td>\n",
       "      <td>0</td>\n",
       "      <td>0</td>\n",
       "      <td>...</td>\n",
       "      <td>0</td>\n",
       "      <td>0</td>\n",
       "      <td>0</td>\n",
       "      <td>0</td>\n",
       "      <td>0</td>\n",
       "      <td>0</td>\n",
       "      <td>0</td>\n",
       "      <td>0</td>\n",
       "      <td>0</td>\n",
       "      <td>0</td>\n",
       "    </tr>\n",
       "    <tr>\n",
       "      <th>1</th>\n",
       "      <td>2</td>\n",
       "      <td>M</td>\n",
       "      <td>Bronchitis</td>\n",
       "      <td>E_53</td>\n",
       "      <td>0</td>\n",
       "      <td>0</td>\n",
       "      <td>0</td>\n",
       "      <td>0</td>\n",
       "      <td>0</td>\n",
       "      <td>0</td>\n",
       "      <td>...</td>\n",
       "      <td>0</td>\n",
       "      <td>0</td>\n",
       "      <td>0</td>\n",
       "      <td>0</td>\n",
       "      <td>0</td>\n",
       "      <td>0</td>\n",
       "      <td>0</td>\n",
       "      <td>1</td>\n",
       "      <td>0</td>\n",
       "      <td>0</td>\n",
       "    </tr>\n",
       "    <tr>\n",
       "      <th>2</th>\n",
       "      <td>49</td>\n",
       "      <td>M</td>\n",
       "      <td>Acute dystonic reactions</td>\n",
       "      <td>E_128</td>\n",
       "      <td>0</td>\n",
       "      <td>0</td>\n",
       "      <td>0</td>\n",
       "      <td>0</td>\n",
       "      <td>0</td>\n",
       "      <td>0</td>\n",
       "      <td>...</td>\n",
       "      <td>0</td>\n",
       "      <td>0</td>\n",
       "      <td>0</td>\n",
       "      <td>0</td>\n",
       "      <td>0</td>\n",
       "      <td>0</td>\n",
       "      <td>0</td>\n",
       "      <td>0</td>\n",
       "      <td>0</td>\n",
       "      <td>0</td>\n",
       "    </tr>\n",
       "    <tr>\n",
       "      <th>3</th>\n",
       "      <td>64</td>\n",
       "      <td>M</td>\n",
       "      <td>Acute laryngitis</td>\n",
       "      <td>E_53</td>\n",
       "      <td>0</td>\n",
       "      <td>1</td>\n",
       "      <td>0</td>\n",
       "      <td>0</td>\n",
       "      <td>0</td>\n",
       "      <td>0</td>\n",
       "      <td>...</td>\n",
       "      <td>0</td>\n",
       "      <td>0</td>\n",
       "      <td>0</td>\n",
       "      <td>0</td>\n",
       "      <td>0</td>\n",
       "      <td>0</td>\n",
       "      <td>0</td>\n",
       "      <td>0</td>\n",
       "      <td>0</td>\n",
       "      <td>0</td>\n",
       "    </tr>\n",
       "    <tr>\n",
       "      <th>4</th>\n",
       "      <td>70</td>\n",
       "      <td>F</td>\n",
       "      <td>URTI</td>\n",
       "      <td>E_201</td>\n",
       "      <td>0</td>\n",
       "      <td>0</td>\n",
       "      <td>0</td>\n",
       "      <td>0</td>\n",
       "      <td>0</td>\n",
       "      <td>0</td>\n",
       "      <td>...</td>\n",
       "      <td>0</td>\n",
       "      <td>0</td>\n",
       "      <td>0</td>\n",
       "      <td>0</td>\n",
       "      <td>0</td>\n",
       "      <td>0</td>\n",
       "      <td>0</td>\n",
       "      <td>0</td>\n",
       "      <td>0</td>\n",
       "      <td>0</td>\n",
       "    </tr>\n",
       "    <tr>\n",
       "      <th>5</th>\n",
       "      <td>45</td>\n",
       "      <td>F</td>\n",
       "      <td>URTI</td>\n",
       "      <td>E_144</td>\n",
       "      <td>0</td>\n",
       "      <td>1</td>\n",
       "      <td>0</td>\n",
       "      <td>0</td>\n",
       "      <td>0</td>\n",
       "      <td>0</td>\n",
       "      <td>...</td>\n",
       "      <td>0</td>\n",
       "      <td>0</td>\n",
       "      <td>0</td>\n",
       "      <td>0</td>\n",
       "      <td>0</td>\n",
       "      <td>0</td>\n",
       "      <td>0</td>\n",
       "      <td>0</td>\n",
       "      <td>0</td>\n",
       "      <td>0</td>\n",
       "    </tr>\n",
       "    <tr>\n",
       "      <th>6</th>\n",
       "      <td>52</td>\n",
       "      <td>M</td>\n",
       "      <td>Inguinal hernia</td>\n",
       "      <td>E_53</td>\n",
       "      <td>0</td>\n",
       "      <td>0</td>\n",
       "      <td>0</td>\n",
       "      <td>0</td>\n",
       "      <td>0</td>\n",
       "      <td>0</td>\n",
       "      <td>...</td>\n",
       "      <td>0</td>\n",
       "      <td>0</td>\n",
       "      <td>0</td>\n",
       "      <td>0</td>\n",
       "      <td>0</td>\n",
       "      <td>0</td>\n",
       "      <td>0</td>\n",
       "      <td>0</td>\n",
       "      <td>0</td>\n",
       "      <td>0</td>\n",
       "    </tr>\n",
       "    <tr>\n",
       "      <th>7</th>\n",
       "      <td>97</td>\n",
       "      <td>M</td>\n",
       "      <td>Spontaneous pneumothorax</td>\n",
       "      <td>E_14</td>\n",
       "      <td>0</td>\n",
       "      <td>0</td>\n",
       "      <td>0</td>\n",
       "      <td>0</td>\n",
       "      <td>0</td>\n",
       "      <td>0</td>\n",
       "      <td>...</td>\n",
       "      <td>0</td>\n",
       "      <td>0</td>\n",
       "      <td>0</td>\n",
       "      <td>0</td>\n",
       "      <td>0</td>\n",
       "      <td>0</td>\n",
       "      <td>0</td>\n",
       "      <td>0</td>\n",
       "      <td>0</td>\n",
       "      <td>0</td>\n",
       "    </tr>\n",
       "    <tr>\n",
       "      <th>8</th>\n",
       "      <td>61</td>\n",
       "      <td>F</td>\n",
       "      <td>Bronchitis</td>\n",
       "      <td>E_53</td>\n",
       "      <td>0</td>\n",
       "      <td>0</td>\n",
       "      <td>0</td>\n",
       "      <td>0</td>\n",
       "      <td>0</td>\n",
       "      <td>0</td>\n",
       "      <td>...</td>\n",
       "      <td>0</td>\n",
       "      <td>0</td>\n",
       "      <td>0</td>\n",
       "      <td>0</td>\n",
       "      <td>0</td>\n",
       "      <td>0</td>\n",
       "      <td>0</td>\n",
       "      <td>1</td>\n",
       "      <td>0</td>\n",
       "      <td>0</td>\n",
       "    </tr>\n",
       "    <tr>\n",
       "      <th>9</th>\n",
       "      <td>50</td>\n",
       "      <td>M</td>\n",
       "      <td>GERD</td>\n",
       "      <td>E_140</td>\n",
       "      <td>1</td>\n",
       "      <td>0</td>\n",
       "      <td>0</td>\n",
       "      <td>0</td>\n",
       "      <td>0</td>\n",
       "      <td>0</td>\n",
       "      <td>...</td>\n",
       "      <td>0</td>\n",
       "      <td>0</td>\n",
       "      <td>0</td>\n",
       "      <td>0</td>\n",
       "      <td>0</td>\n",
       "      <td>0</td>\n",
       "      <td>0</td>\n",
       "      <td>0</td>\n",
       "      <td>0</td>\n",
       "      <td>0</td>\n",
       "    </tr>\n",
       "  </tbody>\n",
       "</table>\n",
       "<p>10 rows × 493 columns</p>\n",
       "</div>"
      ],
      "text/plain": [
       "   AGE SEX                 PATHOLOGY INITIAL_EVIDENCE  E_54_@_V_112  E_48  \\\n",
       "0   49   F                      GERD            E_201             1     0   \n",
       "1    2   M                Bronchitis             E_53             0     0   \n",
       "2   49   M  Acute dystonic reactions            E_128             0     0   \n",
       "3   64   M          Acute laryngitis             E_53             0     1   \n",
       "4   70   F                      URTI            E_201             0     0   \n",
       "5   45   F                      URTI            E_144             0     1   \n",
       "6   52   M           Inguinal hernia             E_53             0     0   \n",
       "7   97   M  Spontaneous pneumothorax             E_14             0     0   \n",
       "8   61   F                Bronchitis             E_53             0     0   \n",
       "9   50   M                      GERD            E_140             1     0   \n",
       "\n",
       "   E_55_@_V_38  E_57_@_V_29  E_55_@_V_129  E_18  ...  E_102  E_55_@_V_150  \\\n",
       "0            0            1             0     0  ...      0             0   \n",
       "1            0            0             0     0  ...      0             0   \n",
       "2            0            0             0     0  ...      0             0   \n",
       "3            0            0             0     0  ...      0             0   \n",
       "4            0            0             0     0  ...      0             0   \n",
       "5            0            0             0     0  ...      0             0   \n",
       "6            0            0             0     0  ...      0             0   \n",
       "7            0            0             0     0  ...      0             0   \n",
       "8            0            0             0     0  ...      0             0   \n",
       "9            0            0             0     0  ...      0             0   \n",
       "\n",
       "   E_177  E_198  E_54_@_V_196  E_133_@_V_26  E_133_@_V_109  E_58_@_7  E_63  \\\n",
       "0      0      0             0             0              0         0     0   \n",
       "1      0      0             0             0              0         1     0   \n",
       "2      0      0             0             0              0         0     0   \n",
       "3      0      0             0             0              0         0     0   \n",
       "4      0      0             0             0              0         0     0   \n",
       "5      0      0             0             0              0         0     0   \n",
       "6      0      0             0             0              0         0     0   \n",
       "7      0      0             0             0              0         0     0   \n",
       "8      0      0             0             0              0         1     0   \n",
       "9      0      0             0             0              0         0     0   \n",
       "\n",
       "   E_104  \n",
       "0      0  \n",
       "1      0  \n",
       "2      0  \n",
       "3      0  \n",
       "4      0  \n",
       "5      0  \n",
       "6      0  \n",
       "7      0  \n",
       "8      0  \n",
       "9      0  \n",
       "\n",
       "[10 rows x 493 columns]"
      ]
     },
     "execution_count": 4,
     "metadata": {},
     "output_type": "execute_result"
    }
   ],
   "source": [
    "df.head(10)"
   ]
  },
  {
   "cell_type": "markdown",
   "id": "4fc13c97",
   "metadata": {},
   "source": [
    "### K - Means Algorithm "
   ]
  },
  {
   "cell_type": "code",
   "execution_count": 5,
   "id": "d709ac5d",
   "metadata": {
    "tags": []
   },
   "outputs": [],
   "source": [
    "import numpy as np\n",
    "\n",
    "#Hamming distance here \n",
    "def distance(a, b):\n",
    "    return np.mean(a!=b)\n",
    "    \n",
    "def k_modes(df_binary, k, max_iter=100):\n",
    "    # Randomly init clusters\n",
    "    initial_clusters = df_binary.sample(n=k).values\n",
    "    cluster_assignments = np.zeros(df_binary.shape[0], dtype=int)\n",
    "\n",
    "    for iteration in range(max_iter):\n",
    "        # Initialize clusters\n",
    "        new_clusters = [np.zeros(df_binary.shape[1]) for _ in range(k)]\n",
    "        cluster_sizes = np.zeros(k)\n",
    "\n",
    "        # Assign to clusters\n",
    "        for i, row in df_binary.iterrows():\n",
    "            dissimilarities = [distance(row.values, cluster) for cluster in initial_clusters]\n",
    "            closest_cluster = np.argmin(dissimilarities)\n",
    "            cluster_assignments[i] = closest_cluster\n",
    "            new_clusters[closest_cluster] += row.values\n",
    "            cluster_sizes[closest_cluster] += 1\n",
    "        # Update cluster centers\n",
    "        for j in range(k):\n",
    "            if cluster_sizes[j] > 0:\n",
    "                # Find the mode for each attribute within the cluster\n",
    "                mode_values = np.where(new_clusters[j] == np.max(new_clusters[j]))[0]\n",
    "                new_clusters[j] = np.zeros(df_binary.shape[1])\n",
    "                new_clusters[j][mode_values] = 1\n",
    "\n",
    "        # Check convergence\n",
    "        if np.array_equal(initial_clusters, new_clusters):\n",
    "            break\n",
    "\n",
    "        initial_clusters = new_clusters\n",
    "\n",
    "    return cluster_assignments"
   ]
  },
  {
   "cell_type": "code",
   "execution_count": 6,
   "id": "da16345d",
   "metadata": {
    "tags": []
   },
   "outputs": [],
   "source": [
    "# Identify binary columns\n",
    "binary_columns = [col for col in df.columns if df[col].nunique() == 2 and df[col].dropna().isin([0, 1]).all()]\n",
    "df_binary = df[binary_columns]\n",
    "#Cluster\n",
    "clusters = k_modes(df_binary, 10)"
   ]
  },
  {
   "cell_type": "markdown",
   "id": "6b5ebd3a",
   "metadata": {},
   "source": [
    "#### Let's explore, with so many attributes, plotting as clusters on scatterplot will be tough, let's just look at all of the actual diagnoses in a group and see if they look similar"
   ]
  },
  {
   "cell_type": "code",
   "execution_count": 7,
   "id": "d5adc126",
   "metadata": {
    "tags": []
   },
   "outputs": [],
   "source": [
    "def extract_diagnosis_for_cluster(df, cluster_labels, cluster_num):\n",
    "    # Convert cluster_labels to a pandas Series to facilitate indexing\n",
    "    cluster_series = pd.Series(cluster_labels, index=df.index)\n",
    "    \n",
    "    # Filter df where cluster label is cluster_num\n",
    "    cluster_df = df[cluster_series == cluster_num]\n",
    "\n",
    "    # Return or print the 'PATHOLOGY'\n",
    "    return cluster_df['PATHOLOGY']"
   ]
  },
  {
   "cell_type": "markdown",
   "id": "336ed255",
   "metadata": {},
   "source": [
    "### Look at Clusters"
   ]
  },
  {
   "cell_type": "code",
   "execution_count": 8,
   "id": "46801596-ecca-4896-97ed-46317589d0ee",
   "metadata": {
    "tags": []
   },
   "outputs": [],
   "source": [
    "# Identify binary columns\n",
    "binary_columns = [col for col in df.columns if df[col].nunique() == 2 and df[col].dropna().isin([0, 1]).all()]\n",
    "df_binary = df[binary_columns]\n",
    "#Cluster\n",
    "k = 20\n",
    "clusters = k_modes(df_binary, k)"
   ]
  },
  {
   "cell_type": "markdown",
   "id": "78cce71a-e2ab-4969-8d53-6ecb8fe58801",
   "metadata": {},
   "source": [
    "### First, print all of the clusters"
   ]
  },
  {
   "cell_type": "code",
   "execution_count": 9,
   "id": "a1fdf174-90a7-464c-845f-31c99625d4bb",
   "metadata": {
    "tags": []
   },
   "outputs": [
    {
     "ename": "IndexError",
     "evalue": "index 0 is out of bounds for axis 0 with size 0",
     "output_type": "error",
     "traceback": [
      "\u001b[1;31m---------------------------------------------------------------------------\u001b[0m",
      "\u001b[1;31mIndexError\u001b[0m                                Traceback (most recent call last)",
      "Input \u001b[1;32mIn [9]\u001b[0m, in \u001b[0;36m<cell line: 4>\u001b[1;34m()\u001b[0m\n\u001b[0;32m      5\u001b[0m cluster_n \u001b[38;5;241m=\u001b[39m extract_diagnosis_for_cluster(df, clusters, i)\n\u001b[0;32m      6\u001b[0m counts_n \u001b[38;5;241m=\u001b[39m cluster_n\u001b[38;5;241m.\u001b[39mvalue_counts()\n\u001b[1;32m----> 7\u001b[0m \u001b[43mcounts_n\u001b[49m\u001b[38;5;241;43m.\u001b[39;49m\u001b[43mplot\u001b[49m\u001b[43m(\u001b[49m\u001b[43mkind\u001b[49m\u001b[38;5;241;43m=\u001b[39;49m\u001b[38;5;124;43m'\u001b[39;49m\u001b[38;5;124;43mbar\u001b[39;49m\u001b[38;5;124;43m'\u001b[39;49m\u001b[43m,\u001b[49m\u001b[43m \u001b[49m\u001b[43max\u001b[49m\u001b[38;5;241;43m=\u001b[39;49m\u001b[43max\u001b[49m\u001b[43m)\u001b[49m\n\u001b[0;32m      8\u001b[0m ax\u001b[38;5;241m.\u001b[39mset_title(\u001b[38;5;124mf\u001b[39m\u001b[38;5;124m'\u001b[39m\u001b[38;5;124mCluster \u001b[39m\u001b[38;5;132;01m{\u001b[39;00mi\u001b[38;5;241m+\u001b[39m\u001b[38;5;241m1\u001b[39m\u001b[38;5;132;01m}\u001b[39;00m\u001b[38;5;124m'\u001b[39m)\n\u001b[0;32m      9\u001b[0m ax\u001b[38;5;241m.\u001b[39mset_xlabel(\u001b[38;5;124m'\u001b[39m\u001b[38;5;124mDiagnois\u001b[39m\u001b[38;5;124m'\u001b[39m)\n",
      "File \u001b[1;32m~\\anaconda3\\lib\\site-packages\\pandas\\plotting\\_core.py:972\u001b[0m, in \u001b[0;36mPlotAccessor.__call__\u001b[1;34m(self, *args, **kwargs)\u001b[0m\n\u001b[0;32m    969\u001b[0m             label_name \u001b[38;5;241m=\u001b[39m label_kw \u001b[38;5;129;01mor\u001b[39;00m data\u001b[38;5;241m.\u001b[39mcolumns\n\u001b[0;32m    970\u001b[0m             data\u001b[38;5;241m.\u001b[39mcolumns \u001b[38;5;241m=\u001b[39m label_name\n\u001b[1;32m--> 972\u001b[0m \u001b[38;5;28;01mreturn\u001b[39;00m plot_backend\u001b[38;5;241m.\u001b[39mplot(data, kind\u001b[38;5;241m=\u001b[39mkind, \u001b[38;5;241m*\u001b[39m\u001b[38;5;241m*\u001b[39mkwargs)\n",
      "File \u001b[1;32m~\\anaconda3\\lib\\site-packages\\pandas\\plotting\\_matplotlib\\__init__.py:71\u001b[0m, in \u001b[0;36mplot\u001b[1;34m(data, kind, **kwargs)\u001b[0m\n\u001b[0;32m     69\u001b[0m         kwargs[\u001b[38;5;124m\"\u001b[39m\u001b[38;5;124max\u001b[39m\u001b[38;5;124m\"\u001b[39m] \u001b[38;5;241m=\u001b[39m \u001b[38;5;28mgetattr\u001b[39m(ax, \u001b[38;5;124m\"\u001b[39m\u001b[38;5;124mleft_ax\u001b[39m\u001b[38;5;124m\"\u001b[39m, ax)\n\u001b[0;32m     70\u001b[0m plot_obj \u001b[38;5;241m=\u001b[39m PLOT_CLASSES[kind](data, \u001b[38;5;241m*\u001b[39m\u001b[38;5;241m*\u001b[39mkwargs)\n\u001b[1;32m---> 71\u001b[0m \u001b[43mplot_obj\u001b[49m\u001b[38;5;241;43m.\u001b[39;49m\u001b[43mgenerate\u001b[49m\u001b[43m(\u001b[49m\u001b[43m)\u001b[49m\n\u001b[0;32m     72\u001b[0m plot_obj\u001b[38;5;241m.\u001b[39mdraw()\n\u001b[0;32m     73\u001b[0m \u001b[38;5;28;01mreturn\u001b[39;00m plot_obj\u001b[38;5;241m.\u001b[39mresult\n",
      "File \u001b[1;32m~\\anaconda3\\lib\\site-packages\\pandas\\plotting\\_matplotlib\\core.py:336\u001b[0m, in \u001b[0;36mMPLPlot.generate\u001b[1;34m(self)\u001b[0m\n\u001b[0;32m    334\u001b[0m \u001b[38;5;28;01mfor\u001b[39;00m ax \u001b[38;5;129;01min\u001b[39;00m \u001b[38;5;28mself\u001b[39m\u001b[38;5;241m.\u001b[39maxes:\n\u001b[0;32m    335\u001b[0m     \u001b[38;5;28mself\u001b[39m\u001b[38;5;241m.\u001b[39m_post_plot_logic_common(ax, \u001b[38;5;28mself\u001b[39m\u001b[38;5;241m.\u001b[39mdata)\n\u001b[1;32m--> 336\u001b[0m     \u001b[38;5;28;43mself\u001b[39;49m\u001b[38;5;241;43m.\u001b[39;49m\u001b[43m_post_plot_logic\u001b[49m\u001b[43m(\u001b[49m\u001b[43max\u001b[49m\u001b[43m,\u001b[49m\u001b[43m \u001b[49m\u001b[38;5;28;43mself\u001b[39;49m\u001b[38;5;241;43m.\u001b[39;49m\u001b[43mdata\u001b[49m\u001b[43m)\u001b[49m\n",
      "File \u001b[1;32m~\\anaconda3\\lib\\site-packages\\pandas\\plotting\\_matplotlib\\core.py:1577\u001b[0m, in \u001b[0;36mBarPlot._post_plot_logic\u001b[1;34m(self, ax, data)\u001b[0m\n\u001b[0;32m   1574\u001b[0m     str_index \u001b[38;5;241m=\u001b[39m [pprint_thing(key) \u001b[38;5;28;01mfor\u001b[39;00m key \u001b[38;5;129;01min\u001b[39;00m \u001b[38;5;28mrange\u001b[39m(data\u001b[38;5;241m.\u001b[39mshape[\u001b[38;5;241m0\u001b[39m])]\n\u001b[0;32m   1575\u001b[0m name \u001b[38;5;241m=\u001b[39m \u001b[38;5;28mself\u001b[39m\u001b[38;5;241m.\u001b[39m_get_index_name()\n\u001b[1;32m-> 1577\u001b[0m s_edge \u001b[38;5;241m=\u001b[39m \u001b[38;5;28;43mself\u001b[39;49m\u001b[38;5;241;43m.\u001b[39;49m\u001b[43max_pos\u001b[49m\u001b[43m[\u001b[49m\u001b[38;5;241;43m0\u001b[39;49m\u001b[43m]\u001b[49m \u001b[38;5;241m-\u001b[39m \u001b[38;5;241m0.25\u001b[39m \u001b[38;5;241m+\u001b[39m \u001b[38;5;28mself\u001b[39m\u001b[38;5;241m.\u001b[39mlim_offset\n\u001b[0;32m   1578\u001b[0m e_edge \u001b[38;5;241m=\u001b[39m \u001b[38;5;28mself\u001b[39m\u001b[38;5;241m.\u001b[39max_pos[\u001b[38;5;241m-\u001b[39m\u001b[38;5;241m1\u001b[39m] \u001b[38;5;241m+\u001b[39m \u001b[38;5;241m0.25\u001b[39m \u001b[38;5;241m+\u001b[39m \u001b[38;5;28mself\u001b[39m\u001b[38;5;241m.\u001b[39mbar_width \u001b[38;5;241m+\u001b[39m \u001b[38;5;28mself\u001b[39m\u001b[38;5;241m.\u001b[39mlim_offset\n\u001b[0;32m   1580\u001b[0m \u001b[38;5;28mself\u001b[39m\u001b[38;5;241m.\u001b[39m_decorate_ticks(ax, name, str_index, s_edge, e_edge)\n",
      "\u001b[1;31mIndexError\u001b[0m: index 0 is out of bounds for axis 0 with size 0"
     ]
    },
    {
     "data": {
      "image/png": "[encoded data removed]",
      "text/plain": [
       "<Figure size 1440x1152 with 20 Axes>"
      ]
     },
     "metadata": {
      "needs_background": "light"
     },
     "output_type": "display_data"
    }
   ],
   "source": [
    "# Assuming k = 20 (4x5 grid)\n",
    "fig, axs = plt.subplots(4, 5, figsize=(20, 16))\n",
    "\n",
    "for i, ax in enumerate(axs.flat):\n",
    "    cluster_n = extract_diagnosis_for_cluster(df, clusters, i)\n",
    "    counts_n = cluster_n.value_counts()\n",
    "    counts_n.plot(kind='bar', ax=ax)\n",
    "    ax.set_title(f'Cluster {i+1}')\n",
    "    ax.set_xlabel('Diagnois')\n",
    "    ax.set_ylabel('Value Count')\n",
    "    ax.set_xticklabels([])\n",
    "    ax.grid(True)\n",
    "\n",
    "plt.tight_layout()\n",
    "plt.show()\n"
   ]
  },
  {
   "cell_type": "markdown",
   "id": "b00f436e",
   "metadata": {},
   "source": [
    "### Then, look at specific clusters"
   ]
  },
  {
   "cell_type": "markdown",
   "id": "404c509c-afd3-47c5-9082-7f7c1f3c5a7d",
   "metadata": {
    "tags": []
   },
   "source": [
    "#### Cluster 1"
   ]
  },
  {
   "cell_type": "code",
   "execution_count": 11,
   "id": "d70aa119-c213-464d-a6cb-90fb1733aae9",
   "metadata": {
    "tags": []
   },
   "outputs": [
    {
     "name": "stdout",
     "output_type": "stream",
     "text": [
      "Localized edema          277\n",
      "Pulmonary embolism       250\n",
      "Acute pulmonary edema    200\n",
      "Name: PATHOLOGY, dtype: int64\n"
     ]
    }
   ],
   "source": [
    "cluster_1 = extract_diagnosis_for_cluster(df, clusters, 1)\n",
    "counts_1 = cluster_1.value_counts()\n",
    "print(counts_1)"
   ]
  },
  {
   "cell_type": "code",
   "execution_count": 12,
   "id": "154c0824-e732-44ad-beda-200d82561240",
   "metadata": {
    "tags": []
   },
   "outputs": [
    {
     "data": {
      "image/png": "[encoded data removed]",
      "text/plain": [
       "<Figure size 720x432 with 1 Axes>"
      ]
     },
     "metadata": {
      "needs_background": "light"
     },
     "output_type": "display_data"
    }
   ],
   "source": [
    "plt.figure(figsize=(10, 6)) \n",
    "counts_1.plot(kind='bar')\n",
    "plt.xlabel('Categories')\n",
    "plt.ylabel('Frequency')\n",
    "plt.grid(True)\n",
    "plt.show()"
   ]
  },
  {
   "cell_type": "markdown",
   "id": "da367d7d-b830-4cb8-a754-2005ae05abd3",
   "metadata": {},
   "source": [
    "#### Cluster 5"
   ]
  },
  {
   "cell_type": "code",
   "execution_count": 13,
   "id": "6d4befe0-d41f-44fe-a4d3-6e06dea3959f",
   "metadata": {
    "tags": []
   },
   "outputs": [
    {
     "name": "stdout",
     "output_type": "stream",
     "text": [
      "Anemia                      246\n",
      "PSVT                         72\n",
      "URTI                         28\n",
      "Chagas                       23\n",
      "Pulmonary neoplasm           22\n",
      "Bronchitis                   15\n",
      "Viral pharyngitis            15\n",
      "Panic attack                 10\n",
      "Myocarditis                   9\n",
      "Epiglottitis                  8\n",
      "Acute laryngitis              8\n",
      "Acute otitis media            6\n",
      "Spontaneous pneumothorax      5\n",
      "Cluster headache              5\n",
      "GERD                          2\n",
      "Name: PATHOLOGY, dtype: int64\n"
     ]
    }
   ],
   "source": [
    "cluster_5 = extract_diagnosis_for_cluster(df, clusters, 0)\n",
    "counts_5 = cluster_5.value_counts()\n",
    "print(counts_5)"
   ]
  },
  {
   "cell_type": "code",
   "execution_count": 14,
   "id": "eb76b7a6",
   "metadata": {
    "tags": []
   },
   "outputs": [
    {
     "data": {
      "image/png": "[encoded data removed]",
      "text/plain": [
       "<Figure size 720x432 with 1 Axes>"
      ]
     },
     "metadata": {
      "needs_background": "light"
     },
     "output_type": "display_data"
    }
   ],
   "source": [
    "plt.figure(figsize=(10, 6)) \n",
    "counts_5.plot(kind='bar')\n",
    "plt.xlabel('Diagnoises')\n",
    "plt.ylabel('Value Counts')\n",
    "# plt.xticks(rotation=45)\n",
    "plt.grid(True)\n",
    "plt.show()"
   ]
  },
  {
   "cell_type": "markdown",
   "id": "ee62ce39",
   "metadata": {},
   "source": [
    "#### Cluster 7"
   ]
  },
  {
   "cell_type": "code",
   "execution_count": 15,
   "id": "11b6c693",
   "metadata": {
    "tags": []
   },
   "outputs": [
    {
     "name": "stdout",
     "output_type": "stream",
     "text": [
      "Ebola    6\n",
      "Name: PATHOLOGY, dtype: int64\n"
     ]
    }
   ],
   "source": [
    "cluster_7 = extract_diagnosis_for_cluster(df, clusters, 7)\n",
    "counts_7 = cluster_7.value_counts()\n",
    "print(counts_7)"
   ]
  },
  {
   "cell_type": "code",
   "execution_count": 16,
   "id": "a22c8ef6",
   "metadata": {
    "tags": []
   },
   "outputs": [
    {
     "data": {
      "image/png": "[encoded data removed]",
      "text/plain": [
       "<Figure size 720x432 with 1 Axes>"
      ]
     },
     "metadata": {
      "needs_background": "light"
     },
     "output_type": "display_data"
    }
   ],
   "source": [
    "plt.figure(figsize=(10, 6)) \n",
    "counts_7.plot(kind='bar')\n",
    "plt.xlabel('Categories')\n",
    "plt.ylabel('Frequency')\n",
    "plt.grid(True)\n",
    "plt.show()"
   ]
  },
  {
   "cell_type": "markdown",
   "id": "b962a683",
   "metadata": {},
   "source": [
    "##### Cluster 4"
   ]
  },
  {
   "cell_type": "code",
   "execution_count": 17,
   "id": "1b05851c",
   "metadata": {},
   "outputs": [
    {
     "name": "stdout",
     "output_type": "stream",
     "text": [
      "Sarcoidosis                206\n",
      "Pancreatic neoplasm         58\n",
      "HIV (initial infection)     51\n",
      "Influenza                   39\n",
      "Inguinal hernia             16\n",
      "SLE                         11\n",
      "Pneumonia                    2\n",
      "Name: PATHOLOGY, dtype: int64\n"
     ]
    }
   ],
   "source": [
    "cluster_4 = extract_diagnosis_for_cluster(df, clusters, 4)\n",
    "counts_4 = cluster_4.value_counts()\n",
    "print(counts_4)"
   ]
  },
  {
   "cell_type": "code",
   "execution_count": 18,
   "id": "df03ff90",
   "metadata": {},
   "outputs": [
    {
     "data": {
      "image/png": "[encoded data removed]",
      "text/plain": [
       "<Figure size 720x432 with 1 Axes>"
      ]
     },
     "metadata": {
      "needs_background": "light"
     },
     "output_type": "display_data"
    }
   ],
   "source": [
    "plt.figure(figsize=(10, 6)) \n",
    "counts_4.plot(kind='bar')\n",
    "plt.xlabel('Categories')\n",
    "plt.ylabel('Frequency')\n",
    "plt.xticks(rotation=45)\n",
    "plt.grid(True)\n",
    "plt.show()"
   ]
  },
  {
   "cell_type": "markdown",
   "id": "1c3045e1",
   "metadata": {},
   "source": [
    "### Agglomerative Clustering"
   ]
  },
  {
   "cell_type": "code",
   "execution_count": null,
   "id": "2e279be7",
   "metadata": {},
   "outputs": [],
   "source": []
  },
  {
   "cell_type": "code",
   "execution_count": 33,
   "id": "c427f1ad",
   "metadata": {},
   "outputs": [
    {
     "name": "stdout",
     "output_type": "stream",
     "text": [
      "             0         1         2         3         4         5         6  \\\n",
      "6252 -0.080407 -0.005666 -0.030282 -0.142118 -0.102603 -0.048748 -0.121922   \n",
      "4684 -0.052331 -0.022973 -0.129772  0.012423  0.029995 -0.004366 -0.051718   \n",
      "1731  0.020984 -0.036985 -0.003251 -0.078137 -0.011488 -0.029977 -0.042236   \n",
      "4742 -0.034531  0.009151 -0.036077 -0.084124 -0.100176 -0.063888 -0.140101   \n",
      "4521 -0.114726 -0.033727  0.004982 -0.100350 -0.027982 -0.080196 -0.012943   \n",
      "6340  0.248378  0.214941  0.072321  0.075667 -0.096025 -0.117366 -0.010657   \n",
      "576  -0.084979 -0.005161 -0.052608 -0.073083 -0.042963 -0.002043 -0.109015   \n",
      "5202 -0.042404  0.034327 -0.078490 -0.014914 -0.030958 -0.030922 -0.076500   \n",
      "6363 -0.006362  0.241809  0.045932 -0.108682 -0.421698  0.255254  0.509207   \n",
      "439  -0.108937 -0.110383 -0.017256 -0.248556  0.144968  0.089898 -0.129486   \n",
      "2750 -0.067691 -0.060862  0.004873 -0.120811  0.016714 -0.000090 -0.033587   \n",
      "7487  0.715323 -0.250188  0.199331  0.173304  0.009905  0.007353 -0.089741   \n",
      "5272 -0.037035  0.014006 -0.021100 -0.120636 -0.107163 -0.041488 -0.136114   \n",
      "5653 -0.081303 -0.006171 -0.049995 -0.069542 -0.036101 -0.000200 -0.096253   \n",
      "3999  0.083901  1.073464  0.323820  0.101678  0.577174  0.024278 -0.055910   \n",
      "6033 -0.001391  0.063482 -0.021063  0.035885 -0.014935 -0.035488 -0.036574   \n",
      "582   0.042774 -0.046937 -0.042681 -0.011647 -0.002585 -0.014405 -0.030844   \n",
      "9930  0.672646 -0.217090  0.204476  0.139192 -0.078312  0.010191 -0.011407   \n",
      "7051 -0.088519 -0.011695 -0.049837 -0.089663 -0.038199 -0.000253 -0.106042   \n",
      "8158 -0.118392 -0.098959  0.012470 -0.190024  0.116913  0.101703 -0.121148   \n",
      "9896 -0.041796  0.183826  0.071527 -0.055321 -0.291816  0.121504  0.154365   \n",
      "2249  0.566259 -0.162932  0.168994  0.136631  0.020502 -0.006250 -0.054371   \n",
      "4640 -0.097987 -0.121907  0.093581 -0.220857  0.139406 -0.392385  0.101505   \n",
      "9485 -0.019144  0.080136 -0.060478  0.049002 -0.015747 -0.048077  0.003035   \n",
      "4947 -0.051074 -0.031091 -0.092764 -0.059969  0.021847 -0.016097 -0.083253   \n",
      "9920 -0.028602  0.031264 -0.081789 -0.040503 -0.037845 -0.006075 -0.097737   \n",
      "1963 -0.006061  0.172446  0.031762 -0.093276 -0.355642  0.196426  0.349553   \n",
      "8243 -0.010460 -0.049033 -0.010076 -0.092030  0.006671 -0.007495 -0.019822   \n",
      "6590 -0.045233  0.039037 -0.015049 -0.041934 -0.000351  0.031599 -0.098904   \n",
      "8847 -0.009056  0.029978 -0.080053  0.055810  0.017017 -0.041144 -0.026151   \n",
      "321  -0.075140 -0.005049 -0.046144 -0.057652 -0.028926  0.002625 -0.076882   \n",
      "2678 -0.084598 -0.060480 -0.015748 -0.167664  0.065557  0.030822 -0.053463   \n",
      "4625 -0.051732 -0.021815 -0.050789 -0.051018 -0.016904  0.001795 -0.068423   \n",
      "4949  0.016296 -0.304937  0.211010 -0.278655  0.446123  0.790082  0.132179   \n",
      "8328 -0.006238 -0.041226 -0.337669  0.267271  0.117764  0.014687  0.116232   \n",
      "3337 -0.107947 -0.319307  0.363394 -0.246426  0.376994 -0.506156  0.605783   \n",
      "5589 -0.019992 -0.056534 -0.436191  0.316576  0.161474  0.014175  0.161677   \n",
      "251  -0.026410 -0.064209 -0.477837  0.379798  0.189662  0.034366  0.202568   \n",
      "3973  0.145887 -0.060064  0.037781 -0.013582  0.028024 -0.023248 -0.052532   \n",
      "6630  0.189582  0.229766  0.026319  0.089425 -0.131197 -0.146452  0.047619   \n",
      "5547  0.026030 -0.021757 -0.040947  0.005969 -0.007713 -0.024273 -0.063378   \n",
      "35    0.061869  0.180773  0.027744 -0.037983 -0.240978 -0.005558  0.211203   \n",
      "8362 -0.028475  0.043889 -0.022448 -0.102949 -0.044299 -0.118311 -0.126334   \n",
      "1513 -0.027701  0.008141 -0.041517 -0.040928 -0.044278  0.024563 -0.069393   \n",
      "9317 -0.050938  0.011524 -0.063270 -0.107650 -0.058264 -0.039085 -0.135158   \n",
      "39   -0.410337 -0.180651  0.511297  0.481300 -0.067917  0.027733 -0.005866   \n",
      "4819 -0.059185 -0.061943 -0.437485  0.338510  0.171152  0.031414  0.162612   \n",
      "3465 -0.501357 -0.165153  0.548854  0.590616 -0.118909  0.066338 -0.132988   \n",
      "1760 -0.076510 -0.004483 -0.011972 -0.101988 -0.082928 -0.027328 -0.130629   \n",
      "2304 -0.034943 -0.022596 -0.105830  0.013616 -0.002958  0.000558 -0.050054   \n",
      "\n",
      "             7         8         9  \n",
      "6252 -0.024609 -0.190042 -0.169918  \n",
      "4684 -0.021210  0.011293  0.049445  \n",
      "1731 -0.028437 -0.002293 -0.085666  \n",
      "4742  0.003812 -0.193264 -0.113600  \n",
      "4521 -0.000745  0.104873 -0.100910  \n",
      "6340  0.236810 -0.212466  0.195164  \n",
      "576  -0.044015  0.047088 -0.164649  \n",
      "5202 -0.019743 -0.081321 -0.096872  \n",
      "6363 -0.196735  0.231387 -0.083290  \n",
      "439  -0.328632  0.078050  0.468359  \n",
      "2750 -0.063864  0.044734 -0.029683  \n",
      "7487 -0.178060  0.073714 -0.170939  \n",
      "5272  0.004832 -0.166864 -0.126257  \n",
      "5653 -0.044211  0.058547 -0.144942  \n",
      "3999 -0.129280  0.109055 -0.079590  \n",
      "6033  0.029873 -0.063431  0.022360  \n",
      "582  -0.043682  0.008685 -0.085320  \n",
      "9930 -0.031625  0.103037  0.204938  \n",
      "7051 -0.053927  0.063448 -0.163343  \n",
      "8158 -0.290033  0.058692  0.406649  \n",
      "9896 -0.052951 -0.262699  0.141776  \n",
      "2249 -0.077207  0.071714 -0.062714  \n",
      "4640 -0.183551 -0.204600  0.231988  \n",
      "9485  0.090224 -0.072626  0.044849  \n",
      "4947 -0.041505  0.111764  0.114890  \n",
      "9920  0.052910 -0.204066 -0.099729  \n",
      "1963 -0.082959  0.180922  0.036126  \n",
      "8243 -0.043858  0.022239 -0.011897  \n",
      "6590  0.011269  0.078593 -0.078073  \n",
      "8847  0.059728 -0.026406 -0.004789  \n",
      "321  -0.035297  0.060083 -0.109424  \n",
      "2678 -0.096568  0.041338  0.047004  \n",
      "4625 -0.049057  0.063395 -0.103126  \n",
      "4949  0.346400 -0.236915 -0.044459  \n",
      "8328 -0.008052 -0.012317  0.013111  \n",
      "3337  0.111067  0.055340 -0.157677  \n",
      "5589 -0.008514  0.022529  0.034939  \n",
      "251  -0.004482 -0.036998  0.018632  \n",
      "3973 -0.028092  0.002563 -0.100540  \n",
      "6630  0.301158 -0.362755  0.259284  \n",
      "5547 -0.018973  0.037856 -0.024411  \n",
      "35    0.088621 -0.114159  0.086401  \n",
      "8362  0.445680  0.374627  0.121170  \n",
      "1513  0.026550 -0.036676 -0.075880  \n",
      "9317  0.518661  0.415538  0.150723  \n",
      "39    0.037319 -0.056533  0.013642  \n",
      "4819 -0.030883  0.016246  0.027061  \n",
      "3465 -0.042921  0.074358  0.058520  \n",
      "1760 -0.017350 -0.142258 -0.154052  \n",
      "2304 -0.043888  0.056981 -0.105279  \n"
     ]
    }
   ],
   "source": [
    "#Agglomerative clustering logic and visualization libraries \n",
    "from scipy.cluster.hierarchy import dendrogram, linkage\n",
    "from scipy.spatial.distance import pdist\n",
    "\n",
    "#Using subset of dataset so we can visualize how the clustering happens \n",
    "sampled_df_binary = df_binary.sample(n=50, random_state=42)\n",
    "original_indices = sampled_df_binary.index\n",
    "\n",
    "#df to use\n",
    "sampled_df_binary.head()\n",
    "\n",
    "#Gonna use MCA to dimensionality reduce \n",
    "import prince\n",
    "\n",
    "mca = prince.MCA(n_components=10, random_state=42)\n",
    "mca.fit(sampled_df_binary)\n",
    "reduced_features = mca.transform(sampled_df_binary)\n",
    "\n",
    "print(reduced_features)\n",
    "\n",
    "#Using previously defined hamming distance is too slow here. Pdist is faster \n",
    "distance_matrix = pdist(reduced_features, metric=\"euclidean\")\n",
    "\n",
    "\n",
    "#Feed into the clustering function \n",
    "Z=linkage(distance_matrix, method=\"average\")\n"
   ]
  },
  {
   "cell_type": "code",
   "execution_count": 35,
   "id": "ea4ad927",
   "metadata": {},
   "outputs": [
    {
     "data": {
      "image/png": "[encoded data removed]",
      "text/plain": [
       "<Figure size 720x576 with 1 Axes>"
      ]
     },
     "metadata": {
      "needs_background": "light"
     },
     "output_type": "display_data"
    }
   ],
   "source": [
    "pathology_labels = df.loc[original_indices, 'PATHOLOGY'].values\n",
    "\n",
    "# Plot dendrogram\n",
    "plt.figure(figsize=(10, 8))\n",
    "dendrogram(Z, labels=pathology_labels)\n",
    "plt.title(\"Hierarchical Clustering Dendrogram\")\n",
    "plt.xlabel(\"Sample Index\")\n",
    "plt.ylabel(\"Distance\")\n",
    "plt.show()"
   ]
  },
  {
   "cell_type": "code",
   "execution_count": null,
   "id": "a1792249",
   "metadata": {},
   "outputs": [],
   "source": []
  },
  {
   "cell_type": "code",
   "execution_count": null,
   "id": "c3252391",
   "metadata": {},
   "outputs": [],
   "source": []
  }
 ],
 "metadata": {
  "kernelspec": {
   "display_name": "Python 3 (ipykernel)",
   "language": "python",
   "name": "python3"
  },
  "language_info": {
   "codemirror_mode": {
    "name": "ipython",
    "version": 3
   },
   "file_extension": ".py",
   "mimetype": "text/x-python",
   "name": "python",
   "nbconvert_exporter": "python",
   "pygments_lexer": "ipython3",
   "version": "3.9.12"
  }
 },
 "nbformat": 4,
 "nbformat_minor": 5
}
