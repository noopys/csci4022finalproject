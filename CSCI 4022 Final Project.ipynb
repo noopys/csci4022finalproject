{
 "cells": [
  {
   "cell_type": "markdown",
   "id": "369cbc35",
   "metadata": {},
   "source": [
    "## Final Project - Medical Diagnosis Clustering Based on Symptoms"
   ]
  },
  {
   "cell_type": "markdown",
   "id": "136abde1",
   "metadata": {},
   "source": [
    "#### Importing and cleaning data"
   ]
  },
  {
   "cell_type": "code",
   "execution_count": 2,
   "id": "8fba8fb9",
   "metadata": {},
   "outputs": [
    {
     "name": "stderr",
     "output_type": "stream",
     "text": [
      "Using custom data configuration ddxplus-648e998559240fad\n",
      "Reusing dataset csv (C:\\Users\\noopys\\.cache\\huggingface\\datasets\\csv\\ddxplus-648e998559240fad\\0.0.0\\9144e0a4e8435090117cea53e6c7537173ef2304525df4a077c435d8ee7828ff)\n"
     ]
    },
    {
     "data": {
      "application/vnd.jupyter.widget-view+json": {
       "model_id": "23fa6f5fa13742ce86f4a18f105452c0",
       "version_major": 2,
       "version_minor": 0
      },
      "text/plain": [
       "HBox(children=(FloatProgress(value=0.0, max=1.0), HTML(value='')))"
      ]
     },
     "metadata": {},
     "output_type": "display_data"
    },
    {
     "name": "stdout",
     "output_type": "stream",
     "text": [
      "\n"
     ]
    }
   ],
   "source": [
    "from datasets import load_dataset\n",
    "\n",
    "dataset = load_dataset(\"aai530-group6/ddxplus\")"
   ]
  },
  {
   "cell_type": "code",
   "execution_count": 4,
   "id": "2baaa60e",
   "metadata": {},
   "outputs": [
    {
     "data": {
      "text/html": [
       "<div>\n",
       "<style scoped>\n",
       "    .dataframe tbody tr th:only-of-type {\n",
       "        vertical-align: middle;\n",
       "    }\n",
       "\n",
       "    .dataframe tbody tr th {\n",
       "        vertical-align: top;\n",
       "    }\n",
       "\n",
       "    .dataframe thead th {\n",
       "        text-align: right;\n",
       "    }\n",
       "</style>\n",
       "<table border=\"1\" class=\"dataframe\">\n",
       "  <thead>\n",
       "    <tr style=\"text-align: right;\">\n",
       "      <th></th>\n",
       "      <th>AGE</th>\n",
       "      <th>DIFFERENTIAL_DIAGNOSIS</th>\n",
       "      <th>SEX</th>\n",
       "      <th>PATHOLOGY</th>\n",
       "      <th>EVIDENCES</th>\n",
       "      <th>INITIAL_EVIDENCE</th>\n",
       "    </tr>\n",
       "  </thead>\n",
       "  <tbody>\n",
       "    <tr>\n",
       "      <th>0</th>\n",
       "      <td>49</td>\n",
       "      <td>[['Bronchitis', 0.20230062181160519], ['GERD',...</td>\n",
       "      <td>F</td>\n",
       "      <td>GERD</td>\n",
       "      <td>['E_53', 'E_54_@_V_112', 'E_54_@_V_161', 'E_54...</td>\n",
       "      <td>E_201</td>\n",
       "    </tr>\n",
       "    <tr>\n",
       "      <th>1</th>\n",
       "      <td>2</td>\n",
       "      <td>[['Bronchospasm / acute asthma exacerbation', ...</td>\n",
       "      <td>M</td>\n",
       "      <td>Bronchitis</td>\n",
       "      <td>['E_53', 'E_54_@_V_181', 'E_55_@_V_55', 'E_55_...</td>\n",
       "      <td>E_53</td>\n",
       "    </tr>\n",
       "    <tr>\n",
       "      <th>2</th>\n",
       "      <td>49</td>\n",
       "      <td>[['Acute dystonic reactions', 0.62670508481658...</td>\n",
       "      <td>M</td>\n",
       "      <td>Acute dystonic reactions</td>\n",
       "      <td>['E_15', 'E_128', 'E_147', 'E_168', 'E_172', '...</td>\n",
       "      <td>E_128</td>\n",
       "    </tr>\n",
       "    <tr>\n",
       "      <th>3</th>\n",
       "      <td>64</td>\n",
       "      <td>[['Bronchitis', 0.2748608320637265], ['Acute l...</td>\n",
       "      <td>M</td>\n",
       "      <td>Acute laryngitis</td>\n",
       "      <td>['E_48', 'E_49', 'E_53', 'E_54_@_V_181', 'E_55...</td>\n",
       "      <td>E_53</td>\n",
       "    </tr>\n",
       "    <tr>\n",
       "      <th>4</th>\n",
       "      <td>70</td>\n",
       "      <td>[['URTI', 0.21257615919851483], ['Influenza', ...</td>\n",
       "      <td>F</td>\n",
       "      <td>URTI</td>\n",
       "      <td>['E_41', 'E_50', 'E_53', 'E_54_@_V_161', 'E_54...</td>\n",
       "      <td>E_201</td>\n",
       "    </tr>\n",
       "  </tbody>\n",
       "</table>\n",
       "</div>"
      ],
      "text/plain": [
       "   AGE                             DIFFERENTIAL_DIAGNOSIS SEX  \\\n",
       "0   49  [['Bronchitis', 0.20230062181160519], ['GERD',...   F   \n",
       "1    2  [['Bronchospasm / acute asthma exacerbation', ...   M   \n",
       "2   49  [['Acute dystonic reactions', 0.62670508481658...   M   \n",
       "3   64  [['Bronchitis', 0.2748608320637265], ['Acute l...   M   \n",
       "4   70  [['URTI', 0.21257615919851483], ['Influenza', ...   F   \n",
       "\n",
       "                  PATHOLOGY  \\\n",
       "0                      GERD   \n",
       "1                Bronchitis   \n",
       "2  Acute dystonic reactions   \n",
       "3          Acute laryngitis   \n",
       "4                      URTI   \n",
       "\n",
       "                                           EVIDENCES INITIAL_EVIDENCE  \n",
       "0  ['E_53', 'E_54_@_V_112', 'E_54_@_V_161', 'E_54...            E_201  \n",
       "1  ['E_53', 'E_54_@_V_181', 'E_55_@_V_55', 'E_55_...             E_53  \n",
       "2  ['E_15', 'E_128', 'E_147', 'E_168', 'E_172', '...            E_128  \n",
       "3  ['E_48', 'E_49', 'E_53', 'E_54_@_V_181', 'E_55...             E_53  \n",
       "4  ['E_41', 'E_50', 'E_53', 'E_54_@_V_161', 'E_54...            E_201  "
      ]
     },
     "execution_count": 4,
     "metadata": {},
     "output_type": "execute_result"
    }
   ],
   "source": [
    "import pandas as pd\n",
    "diagnosis = dataset['train'].select(range(10000))\n",
    "df=pd.DataFrame(diagnosis)\n",
    "\n",
    "df.head()"
   ]
  },
  {
   "cell_type": "code",
   "execution_count": null,
   "id": "acb972b7",
   "metadata": {},
   "outputs": [],
   "source": []
  }
 ],
 "metadata": {
  "kernelspec": {
   "display_name": "Python 3 (ipykernel)",
   "language": "python",
   "name": "python3"
  },
  "language_info": {
   "codemirror_mode": {
    "name": "ipython",
    "version": 3
   },
   "file_extension": ".py",
   "mimetype": "text/x-python",
   "name": "python",
   "nbconvert_exporter": "python",
   "pygments_lexer": "ipython3",
   "version": "3.9.12"
  }
 },
 "nbformat": 4,
 "nbformat_minor": 5
}
